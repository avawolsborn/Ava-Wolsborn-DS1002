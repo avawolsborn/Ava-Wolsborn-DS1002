{
  "cells": [
    {
      "cell_type": "markdown",
      "metadata": {
        "id": "view-in-github",
        "colab_type": "text"
      },
      "source": [
        "<a href=\"https://colab.research.google.com/github/avawolsborn/Ava-Wolsborn-DS1002/blob/main/Wolsborn_Ava_10_Bulls_Cows.ipynb\" target=\"_parent\"><img src=\"https://colab.research.google.com/assets/colab-badge.svg\" alt=\"Open In Colab\"/></a>"
      ]
    },
    {
      "cell_type": "markdown",
      "metadata": {
        "id": "lSwr8T3SNrkj"
      },
      "source": [
        "## Bulls and Cows:\n",
        "### Another guessing game.\n",
        "### Assignment due Wednesday 10 April at 10 am\n",
        "\n",
        "General instructions:\n",
        "\n",
        "1. You may work in teams of up to three people.  As usual, if you do this, make sure all names are clearly displayed at the top of your submission, and all team members should submit the same GitHub URL.\n",
        "\n",
        "1. Use only basic Python code.  Do not use `numpy` arrays or functions.\n",
        "\n",
        "2. Practice utilizing the coding concepts we have studied.  \n",
        "\n",
        "3. Write docstrings for all your functions.\n",
        "\n"
      ]
    },
    {
      "cell_type": "markdown",
      "metadata": {
        "id": "qrWRyeI2NwHA"
      },
      "source": [
        "### Goal:  program this game\n",
        "In this assignment you will program a version of an old game called Bulls and Cows.  It is somewhat similar to Wordle, but with numbers instead of words (and various other differences . . . read carefully!).\n",
        "\n",
        "The game is played like this:  \n",
        "1. The computer will choose a secret code that the player is trying to guess.\n",
        "2. The secret code will be 4 digits long.  It will use only the digits 1-6, and it will have no repeated digits.  For example the secret code might be 1326 or 6241 but it cannot be 2652 or 4913 or 2601.\n",
        "3. The computer will prompt the user for a guess, and the user will guess.  The guess must follow the same rules (4 digits long, only use digits 1-6, no repeats).  The program should not allow an invalid guess.\n",
        "4. After each guess, the computer will give feedback to the user as follows:  \n",
        "(i) Each digit of the guess that is in the secret code and in the correct position is called a Bull (B).  \n",
        "(ii) Each digit of the guess that exists somewhere in the secret code, but *not* in the same position as in the guess, is called a Cow (C).  \n",
        "(iii) A digit of the guess that doesn't occur anywhere in the secret code is called a miss (X).  \n",
        "The computer will inform the user how many Bulls, how many Cows, and how many misses the user's guess had.  \n",
        "The feedback will always start with B's, then list C's, then list X's.  \n",
        "For example if the secret code is 1326  \n",
        "and the guess is 4316  \n",
        "then the computer should respond with \"BBCX\"  \n",
        "because there are two Bulls (the 3 and the 6 are Bulls, because they occur in the same position in the guess as in the secret code),  \n",
        "one Cow (the 1, which is a correct digit but in the wrong position),  \n",
        "and one Miss (the 4, which does not occur anywhere in the secret code).  \n",
        "> **Important:** the feedback string should always list the Bulls first, then the Cows, then the Misses.  It should **not** tell the user which digits are which!  The only information in the feedback string is how many of each there are.  In the example above, for instance, the feedback is **not** \"XBCB\" but rather \"BBCX\".  This is different from Wordle, if you are familiar with that game.\n",
        "5. The user should then be prompted for another guess.  This guess-with-feedback process should be repeated until the user gets the correct code, at which point the computer should indicate that they have won the game.  However, the user should only be allowed 6 guesses; if they don't guess correctly in 6 attempts, then following the feedback from their final guess they should get a message that they have lost the game, and the secret code should be revealed.\n",
        "\n",
        "\n",
        "\n",
        "\n",
        "\n",
        "\n",
        "\n"
      ]
    },
    {
      "cell_type": "markdown",
      "source": [
        "### Steps\n",
        "We will build this game using several functions.  \n",
        "\n",
        "1. **Count the Bulls:**  \n",
        "Write a function that takes two lists of the same length, and returns the number of Bulls.  That is, it should return the number of indices where the lists contain the same element.  *(Note:  you don't have to check that the entries are between 1 and 6, or that there are no repeats, etc.  A different function will do that.)*\n",
        "\n",
        "> A sample run might look like\n",
        "```\n",
        "first = [11, 3, 17, 5, 1]\n",
        "second = [20, 2, 17, 3, 1]\n",
        "count_bulls(first,second)\n",
        "```\n",
        "```\n",
        " 2\n",
        "```\n"
      ],
      "metadata": {
        "id": "XSH1JULaurD1"
      }
    },
    {
      "cell_type": "markdown",
      "source": [
        "Define your function in the code chunk below.  The function definition command and the return command are pre-populated for you.  You just have to fill in the part which does the actual counting.  I recommend using a list comprehension to do this.\n"
      ],
      "metadata": {
        "id": "pXoOyBk7xmPa"
      }
    },
    {
      "cell_type": "code",
      "source": [
        "# the Bull-counting function\n",
        "\n",
        "def count_bulls(first, second):\n",
        "  '''\n",
        "  PURPOSE: Takes two lists of the same length and computes the number of positions where the list entries agree.\n",
        "\n",
        "  INPUTS\n",
        "  first   list of int\n",
        "  second  list of int\n",
        "\n",
        "  OUTPUT\n",
        "  num_bulls   int\n",
        "  '''\n",
        "\n",
        "  # for loop checks if the value at index i in the first list is the same as the value of index i in the second list\n",
        "  # if yes, the number of bulls is increased by one\n",
        "  num_bulls = 0\n",
        "  i = 0\n",
        "  for value in first:\n",
        "    if value == second[i]:\n",
        "      num_bulls += 1\n",
        "    i += 1\n",
        "\n",
        "  return num_bulls"
      ],
      "metadata": {
        "id": "vEsRSe8KxlcF"
      },
      "execution_count": 9,
      "outputs": []
    },
    {
      "cell_type": "markdown",
      "source": [
        "Add code and/or text chunks below to demonstrate that you have tested your code and that it works correctly."
      ],
      "metadata": {
        "id": "yACJyJtOzE2U"
      }
    },
    {
      "cell_type": "code",
      "source": [
        "first = [11, 3, 4, 7]\n",
        "\n",
        "second = [11, 7, 3, 99]\n",
        "\n",
        "count_bulls(first, second)"
      ],
      "metadata": {
        "id": "3kvuAqX0JbLa",
        "outputId": "dfb63ed7-48ef-415c-cf4c-3a14849d25da",
        "colab": {
          "base_uri": "https://localhost:8080/"
        }
      },
      "execution_count": 10,
      "outputs": [
        {
          "output_type": "execute_result",
          "data": {
            "text/plain": [
              "1"
            ]
          },
          "metadata": {},
          "execution_count": 10
        }
      ]
    },
    {
      "cell_type": "markdown",
      "source": [
        "2. **Count something else:**  \n",
        "To count the cows it will be helpful first to count how many of the elements occur in both strings, without paying attention their positions.\n",
        "Write a function called `count_animals` that takes two lists of the same length, and returns the number of elements of the second list that are also in the first list.  (In the game setting, each such element is either a Bull or a Cow, but don't worry about which is which for this problem.)\n",
        "You may assume the lists do not contain repeated elements, since this will be the case when the function is called in the game.\n",
        "\n",
        "> This time a sample run might look like\n",
        "```\n",
        "first = [11, 3, 17, 5, 1]\n",
        "second = [20, 2, 17, 3, 1]\n",
        "count_animals(first,second)\n",
        "```\n",
        "```\n",
        " 3\n",
        "```\n",
        "\n",
        "This one isn't started for you.  Remember to include a docstring.  This can also be done using a list comprehension, similar to the previous function.\n",
        "\n"
      ],
      "metadata": {
        "id": "aMsOmejkzNVN"
      }
    },
    {
      "cell_type": "code",
      "source": [
        "# function to calculate how many values appear in both lists\n",
        "\n",
        "def count_animals(first, second):\n",
        "  '''\n",
        "  PURPOSE: Takes two lists of the same length and computes the number of values that are in both lists.\n",
        "\n",
        "  INPUTS\n",
        "  first   list of int\n",
        "  second  list of int\n",
        "\n",
        "  OUTPUT\n",
        "  repeat_values   int\n",
        "  '''\n",
        "  # the list is iterated through and counted for each value in the first list that is also in the second list (does not need to be in same position)\n",
        "  repeat_values = len([value for value in first if value in second])\n",
        "\n",
        "  return repeat_values"
      ],
      "metadata": {
        "id": "yRX219q02e6i"
      },
      "execution_count": 11,
      "outputs": []
    },
    {
      "cell_type": "markdown",
      "source": [
        "Again, demonstrate below that you have tested your code and that it works."
      ],
      "metadata": {
        "id": "HXRNwANS2f-4"
      }
    },
    {
      "cell_type": "code",
      "source": [
        "first = [11, 3, 4, 7]\n",
        "\n",
        "second = [11, 7, 3, 99]\n",
        "\n",
        "count_animals(first, second)"
      ],
      "metadata": {
        "id": "2m4vGOSwMjaE",
        "outputId": "414c1d74-5649-46da-e33e-adde96fa3edc",
        "colab": {
          "base_uri": "https://localhost:8080/"
        }
      },
      "execution_count": 12,
      "outputs": [
        {
          "output_type": "execute_result",
          "data": {
            "text/plain": [
              "3"
            ]
          },
          "metadata": {},
          "execution_count": 12
        }
      ]
    },
    {
      "cell_type": "markdown",
      "source": [
        "3. **Count the cows:**  \n",
        "Write a function called `count_cows` that counts the cows.  \n",
        "> This time a sample run might look like\n",
        "```\n",
        "first = [11, 3, 17, 5, 1]\n",
        "second = [20, 2, 17, 3, 1]\n",
        "count_cows(first,second)\n",
        "```\n",
        "```\n",
        " 1\n",
        "```\n",
        "*Use the two previously defined functions to help you!  \n",
        "In fact, remember that the only reason we wrote the `count_animals` function was to help count the cows.*\n",
        "\n",
        "You can do this with only two lines of code, not counting documentation!"
      ],
      "metadata": {
        "id": "x2DAPkxj2GMo"
      }
    },
    {
      "cell_type": "code",
      "source": [
        "# cow-counting function\n",
        "\n",
        "def cow_count(first, second):\n",
        "  '''\n",
        "  PURPOSE: Takes two lists of the same length and computes the number of values that are in both lists but do not agree in position.\n",
        "\n",
        "  INPUTS\n",
        "  first   list of int\n",
        "  second  list of int\n",
        "\n",
        "  OUTPUT\n",
        "  num_cows    int\n",
        "  '''\n",
        "\n",
        "  # find the number of cows by subtracting:\n",
        "    # the total duplicate values between the first & second list\n",
        "    # MINUS\n",
        "    # the number of values that exactly match in value and position\n",
        "  num_cows = int(count_animals(first, second)) - int(count_bulls(first, second))\n",
        "\n",
        "  return num_cows\n",
        "\n",
        "cow_count(first, second)"
      ],
      "metadata": {
        "id": "QnxnaOPI3YZO",
        "outputId": "02630e24-af29-4d17-f82d-ad1c82c81307",
        "colab": {
          "base_uri": "https://localhost:8080/"
        }
      },
      "execution_count": 13,
      "outputs": [
        {
          "output_type": "execute_result",
          "data": {
            "text/plain": [
              "2"
            ]
          },
          "metadata": {},
          "execution_count": 13
        }
      ]
    },
    {
      "cell_type": "markdown",
      "metadata": {
        "id": "hWQhYDIVYjXr"
      },
      "source": [
        "4. **Create feedback string**  \n",
        "Write a `build_response_str` function that takes three numbers, say `b,c,l`, and outputs a string of total length `l` that consists of `b` B's, followed by `c` C's, and the rest X's (until the total length is `l`).\n",
        "\n",
        "> Sample run:\n",
        "```\n",
        "build_response_str(4,3,9)\n",
        "```\n",
        "```\n",
        "BBBBCCCXX\n",
        "```"
      ]
    },
    {
      "cell_type": "code",
      "source": [
        "# feedback string function\n",
        "\n",
        "def build_response_str(b, c, l):\n",
        "  '''\n",
        "  PURPOSE: Creates a list of Bs, Cs, and Xs using the input length of Bs and Cs, as well as the total length of the string.\n",
        "\n",
        "  INPUTS:\n",
        "  b   int\n",
        "  c   int\n",
        "  l   int\n",
        "\n",
        "  OUTPUT:\n",
        "  answer    str of Bs, Cs, and Xs of appropriate length\n",
        "  '''\n",
        "  # multiply each letter by their corresponding integers, concatenate into a string\n",
        "  answer = (\"B\" * b) + (\"C\" * c) + (\"X\" * (l - (b + c)))\n",
        "\n",
        "  return answer"
      ],
      "metadata": {
        "id": "GSimWqUsMaPE"
      },
      "execution_count": 14,
      "outputs": []
    },
    {
      "cell_type": "markdown",
      "source": [
        "Test your code here."
      ],
      "metadata": {
        "id": "2D14kxTU7ApH"
      }
    },
    {
      "cell_type": "code",
      "source": [
        "build_response_str(4, 3, 9)"
      ],
      "metadata": {
        "colab": {
          "base_uri": "https://localhost:8080/",
          "height": 35
        },
        "id": "frP4LvC-ING0",
        "outputId": "467fdfdd-9dcc-4eb5-beee-7a8cc0ae1ed3"
      },
      "execution_count": 15,
      "outputs": [
        {
          "output_type": "execute_result",
          "data": {
            "text/plain": [
              "'BBBBCCCXX'"
            ],
            "application/vnd.google.colaboratory.intrinsic+json": {
              "type": "string"
            }
          },
          "metadata": {},
          "execution_count": 15
        }
      ]
    },
    {
      "cell_type": "markdown",
      "metadata": {
        "id": "omzE6sLKwsMC"
      },
      "source": [
        "5.  **Generate feedback for guesses**  \n",
        "Write a function `response(first,second)` that takes two lists of the same length, and outputs a string consisting of some number of B's followed by some number of C's followed by some number of X's, where the numbers correspond to the things we counted above.  That is, if `first` were the secret code in the game and `second` were the user's guess, then we would print one B for each Bull, one C for each Cow, and one X for each Miss. The total output string should have the same length as the input strings.\n",
        "\n",
        "> Sample run:\n",
        "```\n",
        "first = [11, 3, 17, 5, 1]\n",
        "second = [20, 2, 17, 3, 1]\n",
        "response(first,second)\n",
        "```\n",
        "```\n",
        " BBCXX\n",
        "```\n",
        "\n",
        "With all the functions you've already put in place, this should be simple.  Test your code once it's written.\n"
      ]
    },
    {
      "cell_type": "code",
      "source": [
        "# feedback string for guesses\n",
        "\n",
        "def response(first, second):\n",
        "  '''\n",
        "  PURPOSE: Creates a string of Bs, Cs, and Xs using returned values from count_bulls & cow_count and two lists of same length\n",
        "\n",
        "  INPUTS\n",
        "  first   list of int\n",
        "  second  list of int\n",
        "\n",
        "  OUTPUT\n",
        "  answer    str of Bs, Cs, and Xs of appropriate length\n",
        "  '''\n",
        "\n",
        "  # calculate specific bull, cow, and wrong values by calling their respective functions\n",
        "  # cast as integers so that their respective strings (B, C, X) can be multiplied by the value\n",
        "  bulls = int(count_bulls(first, second))\n",
        "  cows = int(cow_count(first, second))\n",
        "  wrong = int(4 - (bulls + cows))\n",
        "\n",
        "  answer = (\"B\" * bulls) + (\"C\" * cows) + (\"X\" * wrong)\n",
        "\n",
        "  return answer"
      ],
      "metadata": {
        "id": "RD1qq7l783y5"
      },
      "execution_count": 16,
      "outputs": []
    },
    {
      "cell_type": "code",
      "source": [
        "response(first, second)"
      ],
      "metadata": {
        "id": "Zq0dSj8uR1ID",
        "outputId": "e20b9ba5-5a77-4edb-9e08-f8d76b89d796",
        "colab": {
          "base_uri": "https://localhost:8080/",
          "height": 35
        }
      },
      "execution_count": 17,
      "outputs": [
        {
          "output_type": "execute_result",
          "data": {
            "text/plain": [
              "'BCCX'"
            ],
            "application/vnd.google.colaboratory.intrinsic+json": {
              "type": "string"
            }
          },
          "metadata": {},
          "execution_count": 17
        }
      ]
    },
    {
      "cell_type": "markdown",
      "metadata": {
        "id": "LWshNPjPZJdQ"
      },
      "source": [
        "6.  **Choose the secret code**  \n",
        "The `random` package, and specifically the `sample` sub-package, is useful for generating random samples.  Try running the following lines of code several times.\n",
        "\n"
      ]
    },
    {
      "cell_type": "code",
      "source": [
        "from random import sample\n",
        "\n",
        "sample(range(1,7),4)  # the first argument is the population to be sampled, and the second is the number of samples\n",
        "                      # recall that `range(a,b)` includes `a` but stops at `b-1`"
      ],
      "metadata": {
        "id": "OzEZ5BQZ85jV",
        "colab": {
          "base_uri": "https://localhost:8080/"
        },
        "outputId": "95e8f42f-31eb-44cb-cc7f-baa4986cc9b4"
      },
      "execution_count": 18,
      "outputs": [
        {
          "output_type": "execute_result",
          "data": {
            "text/plain": [
              "[2, 4, 6, 3]"
            ]
          },
          "metadata": {},
          "execution_count": 18
        }
      ]
    },
    {
      "cell_type": "markdown",
      "source": [
        "What type of object is returned by the `sample` function?\n"
      ],
      "metadata": {
        "id": "N1BOe2Xd-kr4"
      }
    },
    {
      "cell_type": "code",
      "source": [
        "type(sample(range(1,7),4))"
      ],
      "metadata": {
        "id": "U5AAu9sG-slX",
        "colab": {
          "base_uri": "https://localhost:8080/"
        },
        "outputId": "01dc7612-ebde-4980-8665-e2a961724c0e"
      },
      "execution_count": 19,
      "outputs": [
        {
          "output_type": "execute_result",
          "data": {
            "text/plain": [
              "list"
            ]
          },
          "metadata": {},
          "execution_count": 19
        }
      ]
    },
    {
      "cell_type": "markdown",
      "source": [
        "7. **Verify the guess**  \n",
        "Finish writing a function called `get_guess` (started below) to prompt the user for a guess and then make sure the input is valid according to the rules of the game.\n",
        "The prompt is already given.  Note that the `list` command converts the input into a list of characters so that it can be passed to the other functions (which are expecting lists).   \n",
        ">**Alert:  you will likely have to think more about data types before this is all over.**"
      ],
      "metadata": {
        "id": "mbK84TdIAVsO"
      }
    },
    {
      "cell_type": "code",
      "source": [
        "# Add code as needed to verify that the guess is legitimate.\n",
        "# Respond to an illegitimate guess with a message telling the user what the rules are\n",
        "# and asking to try again.\n",
        "\n",
        "def get_guess():\n",
        "  guess = list(input(\"Enter your guess:\"))    # casting as a list allows the values to be easily iterated through\n",
        "  for value in guess:\n",
        "    # legitimacy evaluated -- .count function ensures there's no duplicates, integers are checked to not be over 6, and length of the guess is checked to not be over 4\n",
        "    if guess.count(value) > 1 or int(value) > 6 or len(guess) > 4:\n",
        "      print(\"The list must be only 4 integers long, there cannot be duplicate values, and no values may be above 6. Please guess again.\")\n",
        "      break\n",
        "\n",
        "  return guess"
      ],
      "metadata": {
        "id": "13HGg6VvBXSH"
      },
      "execution_count": 20,
      "outputs": []
    },
    {
      "cell_type": "markdown",
      "source": [
        "As usual, test your code.  What type of objects are we dealing with here?"
      ],
      "metadata": {
        "id": "PSPYpeZYONf0"
      }
    },
    {
      "cell_type": "code",
      "source": [
        "get_guess()"
      ],
      "metadata": {
        "id": "ytgf6BfiOPNh",
        "colab": {
          "base_uri": "https://localhost:8080/"
        },
        "outputId": "ca76069e-fe46-4259-a640-abc9bec4c45e"
      },
      "execution_count": 21,
      "outputs": [
        {
          "output_type": "stream",
          "name": "stdout",
          "text": [
            "Enter your guess:4331\n",
            "The list must be only 4 integers long, there cannot be duplicate values, and no values may be above 6. Please guess again.\n"
          ]
        },
        {
          "output_type": "execute_result",
          "data": {
            "text/plain": [
              "['4', '3', '3', '1']"
            ]
          },
          "metadata": {},
          "execution_count": 21
        }
      ]
    },
    {
      "cell_type": "markdown",
      "source": [
        "8. **Put it all together**  \n",
        "Finally, fill in the details of the function `bulls_cows` below so that it will play the game of Bulls and Cows when called.  Note that the function takes no arguments and returns nothing.\n"
      ],
      "metadata": {
        "id": "WdtvUrA4-uzn"
      }
    },
    {
      "cell_type": "code",
      "execution_count": 22,
      "metadata": {
        "id": "_u48oidGzRKX"
      },
      "outputs": [],
      "source": [
        "from random import sample\n",
        "\n",
        "def bulls_cows():\n",
        "  '''\n",
        "  This function plays the game \"Bulls and Cows.\"\n",
        "  It takes no arguments and returns nothing.\n",
        "  '''\n",
        "  code = sample(range(1,7),4)     # computer selects the secret code\n",
        "\n",
        "  for i in range(6):     # user gets a maximum of 6 guesses\n",
        "    guess = str(input(\"Enter your guess:\"))    # run a function to get a guess\n",
        "\n",
        "    for value in guess:      # for loop is checking if guess is legitimate\n",
        "      if guess.count(value) > 1 or int(value) > 6 or len(guess) > 4:\n",
        "        print(\"The list must be only 4 integers long, there cannot be duplicate values, and no values may be above 6. Please guess again.\")\n",
        "        break\n",
        "\n",
        "    guess_list = []     # in order to compare code to guess, both must be in list form\n",
        "    for n in guess:     # for loop converts individual values in the guess to integers and is then appended to a list\n",
        "      n = int(n)\n",
        "      guess_list.append(n)\n",
        "\n",
        "    if code == guess_list:   # now that both are lists, they may be evaluated if equal to one another\n",
        "      print(\"You guessed it!\")\n",
        "      return\n",
        "\n",
        "    print(response(code,guess_list))   # call response function using both the code and guess list to print feedback string\n",
        "\n",
        "  print(f\"You have run out of guesses. The secret code was {code}.\")\n",
        "  return"
      ]
    },
    {
      "cell_type": "markdown",
      "metadata": {
        "id": "NzjqX_9K3OuV"
      },
      "source": [
        "Play the game a few times below.  Make sure it behaves as you think it should!"
      ]
    },
    {
      "cell_type": "code",
      "execution_count": null,
      "metadata": {
        "id": "b-HELV-z3OuW",
        "colab": {
          "base_uri": "https://localhost:8080/"
        },
        "outputId": "0b63ea76-b6cc-462a-fc5c-342323de2dd6"
      },
      "outputs": [
        {
          "output_type": "stream",
          "name": "stdout",
          "text": [
            "Enter your guess:3412\n",
            "BCXX\n",
            "Enter your guess:3561\n",
            "BBCC\n",
            "Enter your guess:3651\n",
            "BCCC\n",
            "Enter your guess:1563\n",
            "BCCC\n",
            "Enter your guess:3516\n",
            "BCCC\n",
            "Enter your guess:1365\n",
            "BBCC\n",
            "You have run out of guesses. The secret code was [3, 1, 6, 5].\n"
          ]
        }
      ],
      "source": [
        "bulls_cows()"
      ]
    },
    {
      "cell_type": "code",
      "source": [
        "bulls_cows()"
      ],
      "metadata": {
        "id": "inzOdtimDfGU",
        "colab": {
          "base_uri": "https://localhost:8080/"
        },
        "outputId": "7da4866c-0567-4337-baab-095d754ce1d7"
      },
      "execution_count": 23,
      "outputs": [
        {
          "output_type": "stream",
          "name": "stdout",
          "text": [
            "Enter your guess:1234\n",
            "BCXX\n",
            "Enter your guess:1356\n",
            "CCCC\n",
            "Enter your guess:5631\n",
            "BCCC\n",
            "Enter your guess:6135\n",
            "You guessed it!\n"
          ]
        }
      ]
    },
    {
      "cell_type": "code",
      "source": [
        "bulls_cows()"
      ],
      "metadata": {
        "id": "Eqw-5laFDfkG",
        "colab": {
          "base_uri": "https://localhost:8080/"
        },
        "outputId": "8046546a-87c9-4c62-eaa3-7fd33972ffb3"
      },
      "execution_count": null,
      "outputs": [
        {
          "output_type": "stream",
          "name": "stdout",
          "text": [
            "Enter your guess:1234\n",
            "CCXX\n",
            "Enter your guess:1267\n",
            "The list must be only 4 integers long, there cannot be duplicate values, and no values may be above 6. Please guess again.\n",
            "CCCX\n",
            "Enter your guess:6123\n",
            "BCCX\n",
            "Enter your guess:2164\n",
            "CCCX\n",
            "Enter your guess:6421\n",
            "BBCX\n",
            "Enter your guess:6413\n",
            "CCXX\n",
            "You have run out of guesses. The secret code was [5, 6, 2, 1].\n"
          ]
        }
      ]
    },
    {
      "cell_type": "markdown",
      "source": [
        "9. **Reflect**  \n",
        "Think of at least three ways you could change the rules or setup of the game, and in each case describe (in one sentence, you don't need to write code) what you would have to do to modify your code to play the new version of the game.  Use a text box below for each of your ideas."
      ],
      "metadata": {
        "id": "a58-KCX4ELRO"
      }
    },
    {
      "cell_type": "markdown",
      "source": [
        "(1) Instead of listing the response string in alphabetical order, it could be given in the order of values for more specific feedback. To code this, the list would need to be iterated through using a for loop. First, the values at index i in both lists should be checked to be equal. If yes, append the letter B to an empty list. If no, then check if the value at index i in the first list is simply present in the second list. If yes, append the letter C to an empty list. If still no, append the letter X to the list. Keep repeating this process until the lists are iterated through in their entireties. Then, concatenate the new list of Bs, Cs, and Xs into one string."
      ],
      "metadata": {
        "id": "Jof2vIZSEfwo"
      }
    },
    {
      "cell_type": "markdown",
      "source": [
        "(2) Instead of being a code of numbers, it could instead be a code of letters. To do this, most of the code could be the same, but any time the individual values were cast as integers, they should instead be cast as strings. Additionally, the code could be case-sensitive and require that the input is done in all capital letters. So, when the guess is input one of the legitimacy checks would need to be that the input string was all capital letters. If not, an error message would need to be displayed."
      ],
      "metadata": {
        "id": "f2_QlBavEiqW"
      }
    },
    {
      "cell_type": "markdown",
      "source": [
        "(3) Instead of trying to guess just one code, there could be two codes looking to be guessed each round. Of course, more than 6 rounds may be necessary, but once one code is guessed, the game would continue until the second one is *also* guessed (or the total rounds allotted is used up). To code this, the guess list would need to be iterated through twice (once in comparison to the first code and once in comparison to the second code). Two feedback strings would be produced. Once one code is guessed, the game would need to continue to run but with only iterating through the guess once now for the single code left unguessed."
      ],
      "metadata": {
        "id": "sqfq2EFpEjZt"
      }
    }
  ],
  "metadata": {
    "colab": {
      "provenance": [],
      "include_colab_link": true
    },
    "kernelspec": {
      "display_name": "Python 3",
      "name": "python3"
    },
    "language_info": {
      "name": "python"
    }
  },
  "nbformat": 4,
  "nbformat_minor": 0
}