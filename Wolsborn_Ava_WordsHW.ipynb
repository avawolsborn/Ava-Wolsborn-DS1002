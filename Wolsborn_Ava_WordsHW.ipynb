{
  "nbformat": 4,
  "nbformat_minor": 0,
  "metadata": {
    "colab": {
      "provenance": [],
      "authorship_tag": "ABX9TyOi3Xy6HlXOWaTZ6Dv3EXzP",
      "include_colab_link": true
    },
    "kernelspec": {
      "name": "python3",
      "display_name": "Python 3"
    },
    "language_info": {
      "name": "python"
    }
  },
  "cells": [
    {
      "cell_type": "markdown",
      "metadata": {
        "id": "view-in-github",
        "colab_type": "text"
      },
      "source": [
        "<a href=\"https://colab.research.google.com/github/avawolsborn/Ava-Wolsborn-DS1002/blob/main/Wolsborn_Ava_WordsHW.ipynb\" target=\"_parent\"><img src=\"https://colab.research.google.com/assets/colab-badge.svg\" alt=\"Open In Colab\"/></a>"
      ]
    },
    {
      "cell_type": "markdown",
      "source": [
        "I worked on this assignment with Tara Udani, but we have submitted separate pages, as our individual commentary/understandings are our own."
      ],
      "metadata": {
        "id": "r1Ba2krLuYuw"
      }
    },
    {
      "cell_type": "code",
      "execution_count": 2,
      "metadata": {
        "colab": {
          "base_uri": "https://localhost:8080/"
        },
        "id": "w5Hr2_aOC_LQ",
        "outputId": "283e6f6a-c49e-4658-df07-02b7091c661c"
      },
      "outputs": [
        {
          "output_type": "stream",
          "name": "stdout",
          "text": [
            "Collecting english_words\n",
            "  Downloading english-words-2.0.1.tar.gz (8.2 MB)\n",
            "\u001b[2K     \u001b[90m━━━━━━━━━━━━━━━━━━━━━━━━━━━━━━━━━━━━━━━━\u001b[0m \u001b[32m8.2/8.2 MB\u001b[0m \u001b[31m20.6 MB/s\u001b[0m eta \u001b[36m0:00:00\u001b[0m\n",
            "\u001b[?25h  Installing build dependencies ... \u001b[?25l\u001b[?25hdone\n",
            "  Getting requirements to build wheel ... \u001b[?25l\u001b[?25hdone\n",
            "  Preparing metadata (pyproject.toml) ... \u001b[?25l\u001b[?25hdone\n",
            "Building wheels for collected packages: english_words\n",
            "  Building wheel for english_words (pyproject.toml) ... \u001b[?25l\u001b[?25hdone\n",
            "  Created wheel for english_words: filename=english_words-2.0.1-py3-none-any.whl size=8196238 sha256=e8b3741b3028146b14c38cb118f9274e02d05798058ff9d5c4459ee610940a98\n",
            "  Stored in directory: /root/.cache/pip/wheels/f0/e6/d9/16a123647999fe535f03a36e7af23eef203736d84c7ca25b0b\n",
            "Successfully built english_words\n",
            "Installing collected packages: english_words\n",
            "Successfully installed english_words-2.0.1\n"
          ]
        }
      ],
      "source": [
        "!pip install english_words\n",
        "from english_words import get_english_words_set\n",
        "words = get_english_words_set(['web2'], lower=True)"
      ]
    },
    {
      "cell_type": "code",
      "source": [
        "## 1.\n",
        "# finding the type of the variable words\n",
        "print(\"The variable words is a \" + str(type(words)))\n",
        "\n",
        "# casting words as a list & finding the length\n",
        "wordlist = list(words)\n",
        "print(\"The list of words is \" + str(len(wordlist)) + \" long.\")"
      ],
      "metadata": {
        "colab": {
          "base_uri": "https://localhost:8080/"
        },
        "id": "YFBBZK15LGmR",
        "outputId": "f8cf9128-7180-4b48-9910-9ce5fd2251ad"
      },
      "execution_count": 25,
      "outputs": [
        {
          "output_type": "stream",
          "name": "stdout",
          "text": [
            "The variable words is a <class 'set'>\n",
            "The list of words is 234450 long.\n"
          ]
        }
      ]
    },
    {
      "cell_type": "code",
      "source": [
        "## 2.\n",
        "# slicing the first 10 words & creating a new list to represent just these 10\n",
        "tenwords = wordlist[:10]\n",
        "print(tenwords)\n",
        "\n",
        "# I notice that these words are stored as strings but are not sorted alphabetically"
      ],
      "metadata": {
        "colab": {
          "base_uri": "https://localhost:8080/"
        },
        "id": "1ClJ0t7XLlXR",
        "outputId": "2a1cd648-6432-4a0f-b7da-de5393756099"
      },
      "execution_count": 4,
      "outputs": [
        {
          "output_type": "stream",
          "name": "stdout",
          "text": [
            "['unfricative', 'ingeneration', 'fetiparous', 'cleek', 'systatic', 'gemot', 'enuretic', 'thigmonegative', 'streamlike', 'acetoamidophenol']\n"
          ]
        }
      ]
    },
    {
      "cell_type": "code",
      "source": [
        "## 3.\n",
        "# creating a new alpha_list that sorts the strings alphabetically\n",
        "alpha_list = sorted(wordlist)"
      ],
      "metadata": {
        "id": "y97x4eJCMFX8"
      },
      "execution_count": 5,
      "outputs": []
    },
    {
      "cell_type": "code",
      "source": [
        "## 4.\n",
        "\n",
        "# this is a count of the words starting with 'a' (initially 0) that can be increased with every string found to start with 'a'\n",
        "a_count = 0\n",
        "\n",
        "# the for loop cycles through every word within our list and evaluates if it starts with 'a'\n",
        "# then, if it does (and only if), it will increase the \"a count\" by 1\n",
        "# .startswith function simply evaluates if a string begins with the character argument\n",
        "for word in wordlist:\n",
        "  if word.startswith('a') == True:\n",
        "    a_count += 1\n",
        "\n",
        "print(\"There are \" + str(a_count) + \" words in the list that start with the letter A.\")"
      ],
      "metadata": {
        "colab": {
          "base_uri": "https://localhost:8080/"
        },
        "id": "Tbuy4xpyMSti",
        "outputId": "f7ce1025-249b-4431-9e80-b3e1c9d76d27"
      },
      "execution_count": 6,
      "outputs": [
        {
          "output_type": "stream",
          "name": "stdout",
          "text": [
            "There are 16982 words in the list that start with the letter A.\n"
          ]
        }
      ]
    },
    {
      "cell_type": "code",
      "source": [
        "## 5.\n",
        "\n",
        "# this code uses a for loop in the same manner as the above cell\n",
        "# the in function simply evaluates if a letter is included in a string\n",
        "q_count = 0\n",
        "for word in alpha_list:\n",
        "  if \"q\" in word:\n",
        "    q_count += 1\n",
        "\n",
        "print(\"There are \" + str(q_count) + \" words in the list containing the letter Q.\")\n",
        "\n",
        "\n",
        "\n",
        "# this code does the exact same function of counting how many words contain the letter 'e' as the above code did for 'q'\n",
        "e_count = 0\n",
        "for word in alpha_list:\n",
        "  if \"e\" in word:\n",
        "    e_count += 1\n",
        "\n",
        "# To print the fraction, I divided the words that don't contain the letter E (total - the # that do) by the total\n",
        "print(\"The fraction of words not containing the letter E = \" + str((len(wordlist) - e_count)/len(wordlist)))"
      ],
      "metadata": {
        "colab": {
          "base_uri": "https://localhost:8080/"
        },
        "id": "yw3iAnn2OPfN",
        "outputId": "4429cda1-39b8-49ab-fa6c-361e09a80ee5"
      },
      "execution_count": 7,
      "outputs": [
        {
          "output_type": "stream",
          "name": "stdout",
          "text": [
            "There are 3624 words in the list containing the letter Q.\n",
            "The fraction of words not containing the letter E = 0.32828321603753463\n"
          ]
        }
      ]
    },
    {
      "cell_type": "code",
      "source": [
        "## 6.\n",
        "\n",
        "import numpy as np\n",
        "\n",
        "# casting the first ten words (sorted and unsorted) as numpy arrays\n",
        "np.array(wordlist)\n",
        "np.array(alpha_list)\n",
        "\n",
        "# This function prints the entire alphabet as individual strings, stored in a list\n",
        "alphabet = [chr(i) for i in range(ord('a'),ord('z')+1)]\n",
        "print(alphabet)"
      ],
      "metadata": {
        "colab": {
          "base_uri": "https://localhost:8080/"
        },
        "id": "Z9rwvSxJNaL5",
        "outputId": "7c1115b0-aedf-4917-e5d0-16b94f8cbbd4"
      },
      "execution_count": 8,
      "outputs": [
        {
          "output_type": "stream",
          "name": "stdout",
          "text": [
            "['a', 'b', 'c', 'd', 'e', 'f', 'g', 'h', 'i', 'j', 'k', 'l', 'm', 'n', 'o', 'p', 'q', 'r', 's', 't', 'u', 'v', 'w', 'x', 'y', 'z']\n"
          ]
        }
      ]
    },
    {
      "cell_type": "code",
      "source": [
        "## 7.\n",
        "\n",
        "import matplotlib.pyplot as plt\n",
        "\n",
        "# similar to the above code, there is a letter counter that will increase with every word found to start with a certain letter\n",
        "# differently, however, is that this counter is a list in which every index aligns with the index of a letter\n",
        "    # ex. alphabet[0] = 'a', so letter_count[0] = # of words that start with 'a'\n",
        "letter_count = np.zeros(len(alphabet))\n",
        "\n",
        "# the for loop will cycle through every word within our list\n",
        "    # for every word, there is an additional for loop that will cycle through every letter to see if that word starts with it\n",
        "    # there is a corresponding i value that equals the index of the letter we are analyzing in each go around of the inner for loop\n",
        "        # the letter_count value at the corresponding index, i, only increases when there is a word that starts with that letter\n",
        "        # however, the i value (index) increases every with every for loop round so that the index matches each letter in alphabet\n",
        "for word in alpha_list:\n",
        "  i = 0\n",
        "  for letter in alphabet:\n",
        "    if word.startswith(letter) == True:\n",
        "      letter_count[i] += 1\n",
        "    i += 1\n",
        "\n",
        "# plotting the bar graph: x-axis is the letter, y-axis is the frequency of words that start with that letter\n",
        "x1 = alphabet\n",
        "y1 = letter_count\n",
        "\n",
        "plt.bar(x1, y1, color='b')\n",
        "plt.plot()\n",
        "\n",
        "plt.xlabel(\"Starting Letter\")\n",
        "plt.ylabel(\"Number of Words\")\n",
        "plt.title(\"Frequency of Words that Start with Each Letter\")\n",
        "plt.show()"
      ],
      "metadata": {
        "colab": {
          "base_uri": "https://localhost:8080/",
          "height": 472
        },
        "id": "zc14JYekNy9k",
        "outputId": "a3980ef7-fbaf-44ee-b64b-09180f65f3e0"
      },
      "execution_count": 9,
      "outputs": [
        {
          "output_type": "display_data",
          "data": {
            "text/plain": [
              "<Figure size 640x480 with 1 Axes>"
            ],
            "image/png": "[encoded data removed]"
          },
          "metadata": {}
        }
      ]
    },
    {
      "cell_type": "code",
      "source": [
        "## 8.\n",
        "\n",
        "# create a list of zeros the same length as our list\n",
        "    # each index of word_length will represent the # of letters in the corresponding index of tenwords\n",
        "word_length = np.zeros(len(alpha_list))\n",
        "\n",
        "# create a for loop that cycles through every word in tenwords\n",
        "    # within this, cycle through every letter in each word and count the number of letters by increasing the corresponding value in word_length\n",
        "i = 0\n",
        "for word in alpha_list:\n",
        "  for letter in word:\n",
        "    word_length[i] += 1\n",
        "  i += 1\n",
        "\n",
        "# zip function combines the two lists to be a dictionary, words_and_length\n",
        "    # tenwords = key; word_length = value\n",
        "words_and_length = dict(zip(alpha_list, word_length))\n",
        "\n",
        "# sort the dictionary by its word length, so that the corresponding words can be pulled easily to find the longest ones\n",
        "    # the lambda function highlights the fact that we are sorting by the key (word length) instead of value\n",
        "    # the x:x[1] returns the second element of the list *value*, given the input first element *key*\n",
        "sorted_words_and_length = sorted(words_and_length.items(), key=lambda x:x[1])\n",
        "\n",
        "# pull the 6 longest words by slicing\n",
        "longest_words_and_length = dict(sorted_words_and_length[-6:])\n",
        "\n",
        "# print the 6 longest words\n",
        "long_word_list = list(longest_words_and_length.keys())\n",
        "\n",
        "print(\"The 6 longest words of the list are:\")\n",
        "\n",
        "i = 0\n",
        "for word in long_word_list:\n",
        "  print(long_word_list[i])\n",
        "  i += 1"
      ],
      "metadata": {
        "colab": {
          "base_uri": "https://localhost:8080/"
        },
        "id": "6ELYJzRrTkAB",
        "outputId": "7296a591-66ce-4758-9f66-f51fb955f190"
      },
      "execution_count": 10,
      "outputs": [
        {
          "output_type": "stream",
          "name": "stdout",
          "text": [
            "The 6 longest words of the list are:\n",
            "formaldehydesulphoxylate\n",
            "pathologicopsychological\n",
            "scientificophilosophical\n",
            "tetraiodophenolphthalein\n",
            "thyroparathyroidectomize\n",
            "antidisestablishmentarianism\n"
          ]
        }
      ]
    },
    {
      "cell_type": "code",
      "source": [
        "## 9.\n",
        "\n",
        "# creating a histogram:\n",
        "# using the word_length list from the above cell, we have the values to be represented on the x-axis\n",
        "# by the histogram, we can see that the most common word length is about 9\n",
        "\n",
        "plt.hist(word_length, bins = 28)\n",
        "plt.xlabel(\"Word Length\")\n",
        "plt.ylabel(\"Number of Words\")\n",
        "plt.title(\"Frequency of Words at Each Length\")\n",
        "plt.show()"
      ],
      "metadata": {
        "colab": {
          "base_uri": "https://localhost:8080/",
          "height": 472
        },
        "id": "RQpCCCy0da5c",
        "outputId": "d3fb1168-8998-4a90-a943-611215e9337f"
      },
      "execution_count": 11,
      "outputs": [
        {
          "output_type": "display_data",
          "data": {
            "text/plain": [
              "<Figure size 640x480 with 1 Axes>"
            ],
            "image/png": "[encoded data removed]"
          },
          "metadata": {}
        }
      ]
    },
    {
      "cell_type": "code",
      "source": [
        "## 11.\n",
        "\n",
        "# finding how many words contain both 'a' and 'v' by evaluating if an a is present (using in function) and then if v is also present\n",
        "av_count = 0\n",
        "for word in alpha_list:\n",
        "  if \"a\" in word:\n",
        "    if \"v\" in word:\n",
        "      av_count += 1\n",
        "\n",
        "print(\"There are \" + str(av_count) + \" words that contain both the letters V and A.\")\n",
        "\n",
        "# finding how many words contain both 'w' and 'l' by the same process above.\n",
        "wl_count = 0\n",
        "for word in alpha_list:\n",
        "  if \"w\" in word:\n",
        "    if \"l\" in word:\n",
        "      wl_count += 1\n",
        "\n",
        "print(\"There are \" + str(wl_count) + \" words that contain both the letters W and L.\")\n",
        "\n",
        "# This code has to loop through the list 234450 times (once for each word). It takes 0 seconds to run."
      ],
      "metadata": {
        "colab": {
          "base_uri": "https://localhost:8080/"
        },
        "id": "sguS-q5DruHD",
        "outputId": "ae6163af-0536-4398-9dc1-2fbff4a41a2c"
      },
      "execution_count": 21,
      "outputs": [
        {
          "output_type": "stream",
          "name": "stdout",
          "text": [
            "There are 11347 words that contain both the letters V and A.\n",
            "There are 4822 words that contain both the letters W and L.\n"
          ]
        }
      ]
    }
  ]
}