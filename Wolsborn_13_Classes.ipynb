{
  "nbformat": 4,
  "nbformat_minor": 0,
  "metadata": {
    "colab": {
      "provenance": [],
      "include_colab_link": true
    },
    "kernelspec": {
      "name": "python3",
      "display_name": "Python 3"
    },
    "language_info": {
      "name": "python"
    }
  },
  "cells": [
    {
      "cell_type": "markdown",
      "metadata": {
        "id": "view-in-github",
        "colab_type": "text"
      },
      "source": [
        "<a href=\"https://colab.research.google.com/github/avawolsborn/Ava-Wolsborn-DS1002/blob/main/Wolsborn_13_Classes.ipynb\" target=\"_parent\"><img src=\"https://colab.research.google.com/assets/colab-badge.svg\" alt=\"Open In Colab\"/></a>"
      ]
    },
    {
      "cell_type": "markdown",
      "source": [
        "## Assignment:  Classes\n",
        "### Due Sunday 28 April at 10pm"
      ],
      "metadata": {
        "id": "5Vy93BSp9Tum"
      }
    },
    {
      "cell_type": "markdown",
      "source": [
        "1.  Define a class called `Person` that has attributes `lastName`, `firstName`, `mother`, and `father`.  Both `mother` and `father` should have default value `unknown`.\n",
        "\n",
        "  Include a `__str__()` function that returns a string of the form '`firstName` `lastName`'.\n",
        "\n",
        "  Include a `__repr__()` function that returns a string that can be evaluated to recreate the `Person` object.\n",
        "\n"
      ],
      "metadata": {
        "id": "vcj5XQAI9Wsb"
      }
    },
    {
      "cell_type": "code",
      "source": [
        "# define a class called Person\n",
        "\n",
        "class Person:\n",
        "  def __init__(self, lastName, firstName, mother, father):    # takes arguments lastName, firstName, mother, father (+ self that defines person)\n",
        "    self.lastName = lastName\n",
        "    self.firstName = firstName\n",
        "    self.mother = mother\n",
        "    self.father = father\n",
        "  def __str__(self):      # str function returns full name in string form\n",
        "    return str(self.firstName) + \" \" + str(self.lastName)\n",
        "  def __repr__(self):     # repr function returns all attributes of person (recreates object)\n",
        "    return f'Person({self.lastName}, {self.firstName}, {self.mother}, {self.father})'"
      ],
      "metadata": {
        "id": "mjHDwHv3EpVe"
      },
      "execution_count": 38,
      "outputs": []
    },
    {
      "cell_type": "markdown",
      "source": [
        "Create a person (i.e., a `Person` object) called `p` with unknown parents.  (You will need to give your person a first and last name.) Check the type of `p`.  Include all inputs and outputs."
      ],
      "metadata": {
        "id": "-ppMsEIVHINl"
      }
    },
    {
      "cell_type": "code",
      "source": [
        "# defined a person, p, as Tara Udani with no parents (None)\n",
        "p = Person(\"Udani\", \"Tara\", None, None)\n",
        "\n",
        "# verifying type -- it is class person\n",
        "print(type(p))\n",
        "\n",
        "# printing all outputs\n",
        "print(p.firstName)\n",
        "print(p.lastName)\n",
        "print(p.mother)\n",
        "print(p.father)"
      ],
      "metadata": {
        "id": "5bwid_6gHIBH",
        "outputId": "6396099a-8d45-461f-ad71-30f5dda793d0",
        "colab": {
          "base_uri": "https://localhost:8080/"
        }
      },
      "execution_count": 40,
      "outputs": [
        {
          "output_type": "stream",
          "name": "stdout",
          "text": [
            "<class '__main__.Person'>\n",
            "Tara\n",
            "Udani\n",
            "None\n",
            "None\n"
          ]
        }
      ]
    },
    {
      "cell_type": "markdown",
      "source": [
        "Verify that your `__str__` and `__repr__` functions are doing what they are supposed to do.  Include all inputs and outputs."
      ],
      "metadata": {
        "id": "Z6zlUC3xRtal"
      }
    },
    {
      "cell_type": "code",
      "source": [
        "# printing str and repr functions\n",
        "print(str(p))\n",
        "print(repr(p))"
      ],
      "metadata": {
        "id": "jZO0dBQYRs-K",
        "outputId": "27c8ab3c-fee3-446f-998f-d711e32e18a2",
        "colab": {
          "base_uri": "https://localhost:8080/"
        }
      },
      "execution_count": 41,
      "outputs": [
        {
          "output_type": "stream",
          "name": "stdout",
          "text": [
            "Tara Udani\n",
            "Person(Udani, Tara, None, None)\n"
          ]
        }
      ]
    },
    {
      "cell_type": "markdown",
      "source": [
        "Suppose the mother of `p` has been found and is named Taylor Swift.  Create a new person named Taylor Swift, and make her the mother of `p`:\n",
        "\n",
        "```\n",
        "> p.mother\n",
        "'Taylor Swift'\n",
        "```"
      ],
      "metadata": {
        "id": "1mOAThQiHzoQ"
      }
    },
    {
      "cell_type": "code",
      "source": [
        "# defining new person (Taylor Swift)\n",
        "TS = Person(\"Swift\", \"Taylor\", None, None)\n",
        "\n",
        "# defining mother of p as Taylor Swift\n",
        "p.mother = TS\n",
        "\n",
        "# printing all outputs to ensure it worked\n",
        "print(repr(p))"
      ],
      "metadata": {
        "id": "NYbDOorpHymz",
        "colab": {
          "base_uri": "https://localhost:8080/"
        },
        "outputId": "bc862901-2437-4fa7-95bd-54504e109321"
      },
      "execution_count": 42,
      "outputs": [
        {
          "output_type": "stream",
          "name": "stdout",
          "text": [
            "Person(Udani, Tara, Taylor Swift, None)\n"
          ]
        }
      ]
    },
    {
      "cell_type": "markdown",
      "source": [
        "2.  Add some methods to your class.  Start by copying the `class` definition you already wrote.  Then, inside the `class` definition:\n",
        "\n",
        "  (a) Write a method called `unknownParent()` which returns `True` if any parent is 'unknown' and `False` otherwise.\n",
        "\n",
        "  (b) Write a method called `maternalGrandmother()` which returns the mother's mother.  If the mother is unknown, it should return 'unknown'.\n",
        "\n"
      ],
      "metadata": {
        "id": "1g1pcrmFHzGh"
      }
    },
    {
      "cell_type": "code",
      "source": [
        "# defining class Person, mostly the same as code chunk 1\n",
        "class Person:\n",
        "  def __init__(self, lastName, firstName, mother, father):\n",
        "    self.lastName = lastName\n",
        "    self.firstName = firstName\n",
        "    self.mother = mother\n",
        "    self.father = father\n",
        "  def __str__(self):\n",
        "    return str(self.firstName) + \" \" + str(self.lastName)\n",
        "  def __repr__(self):\n",
        "    return f'Person({self.lastName}, {self.firstName}, {self.mother}, {self.father})'\n",
        "\n",
        "  def unknownParent(self):      # unknownParent function checks if the individual has 1 or more unknown parents (True), otherwise returns False\n",
        "    if self.mother == None or self.father == None:\n",
        "      return True\n",
        "    else:\n",
        "      return False\n",
        "\n",
        "  def maternalGrandmother(self):    # maternalGrandmother function checks if the individual has a known mother of their mother, otherwise returns False\n",
        "    maternalGrandmother = self.mother.mother\n",
        "    if self.mother == None or maternalGrandmother == None:\n",
        "      return \"Unknown\"\n",
        "    else:\n",
        "      return maternalGrandmother"
      ],
      "metadata": {
        "id": "7mIxJGwwKTpv"
      },
      "execution_count": 43,
      "outputs": []
    },
    {
      "cell_type": "markdown",
      "source": [
        "Create enough `Person` objects to test whether your methods are working properly.  Show all your inputs and outputs.  It is up to you to demonstrate that you have thoroughly tested the code.  You may use additional code and/or text chunks if it helps."
      ],
      "metadata": {
        "id": "l9-4gxd8FxAQ"
      }
    },
    {
      "cell_type": "code",
      "source": [
        "# dog is defined as Mina Wolsborn with Ava (me) as her mother\n",
        "# Ava (me) is defined with both parents\n",
        "dog = Person(\"Wolsborn\", \"Mina\", \"Ava\", None)\n",
        "myself = Person(\"Wolsborn\", \"Ava\", \"Ashley\", \"John\")\n",
        "dog.mother = myself\n",
        "\n",
        "# prints full names of dog and me\n",
        "print(str(dog))\n",
        "print(str(myself))\n",
        "\n",
        "# prints if dog has an unknown parent and dog's grandmother\n",
        "print(dog.unknownParent())\n",
        "print(dog.maternalGrandmother())"
      ],
      "metadata": {
        "id": "gX1qpcKzFwoZ",
        "colab": {
          "base_uri": "https://localhost:8080/"
        },
        "outputId": "630cce93-0cc8-4fd6-f36c-8c52791cfcff"
      },
      "execution_count": 44,
      "outputs": [
        {
          "output_type": "stream",
          "name": "stdout",
          "text": [
            "Mina Wolsborn\n",
            "Ava Wolsborn\n",
            "True\n",
            "Ashley\n"
          ]
        }
      ]
    },
    {
      "cell_type": "code",
      "source": [
        "# dog is redefined as Mina but with no parents\n",
        "dog = Person(\"Wolsborn\", \"Mina\", None, None)\n",
        "\n",
        "print(str(dog))\n",
        "print(repr(dog))\n",
        "print(dog.unknownParent())"
      ],
      "metadata": {
        "colab": {
          "base_uri": "https://localhost:8080/"
        },
        "id": "DibGT7J4C78U",
        "outputId": "dd96d93c-bce7-41d1-ddec-99a0ac02b76f"
      },
      "execution_count": 45,
      "outputs": [
        {
          "output_type": "stream",
          "name": "stdout",
          "text": [
            "Mina Wolsborn\n",
            "Person(Wolsborn, Mina, None, None)\n",
            "True\n"
          ]
        }
      ]
    }
  ]
}