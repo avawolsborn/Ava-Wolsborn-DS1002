{
  "nbformat": 4,
  "nbformat_minor": 0,
  "metadata": {
    "colab": {
      "provenance": [],
      "include_colab_link": true
    },
    "kernelspec": {
      "name": "python3",
      "display_name": "Python 3"
    },
    "language_info": {
      "name": "python"
    }
  },
  "cells": [
    {
      "cell_type": "markdown",
      "metadata": {
        "id": "view-in-github",
        "colab_type": "text"
      },
      "source": [
        "<a href=\"https://colab.research.google.com/github/avawolsborn/Ava-Wolsborn-DS1002/blob/main/Wolsborn_11_comprehension_and_recursion.ipynb\" target=\"_parent\"><img src=\"https://colab.research.google.com/assets/colab-badge.svg\" alt=\"Open In Colab\"/></a>"
      ]
    },
    {
      "cell_type": "markdown",
      "source": [
        "## Assignment 11\n",
        "Due Monday 15 April at noon"
      ],
      "metadata": {
        "id": "y6mGkyWrqph3"
      }
    },
    {
      "cell_type": "markdown",
      "source": [
        "### List comprehension\n",
        "\n",
        "Many of you resisted my recommendation to use list comprehensions in the previous assignment, and so my hand is forced.  You made me require it.\n",
        "\n",
        "\n",
        "Problem 1.  For each function you write below, you may assume the list being sent to the function will contain the appropriate data type.\n",
        "\n",
        "Use list comprehensions to create a function that will take a list `l` and return . . ."
      ],
      "metadata": {
        "id": "eBJulsWBngse"
      }
    },
    {
      "cell_type": "code",
      "source": [
        "l = [-6, -5, -4, -3, -2, -1, 0, 1, 2, 3, 4, 5, 6]"
      ],
      "metadata": {
        "id": "lfoiWUj0DPl_"
      },
      "execution_count": 73,
      "outputs": []
    },
    {
      "cell_type": "markdown",
      "source": [
        "(a) . . . a list containing the absolute value of each element of `l`"
      ],
      "metadata": {
        "id": "1h4hKDEqo5T_"
      }
    },
    {
      "cell_type": "code",
      "source": [
        "# Absolute value is the distance a value is from 0. It is always positive.\n",
        "# If a number in the list is positive, it is simply returned. If negative, it is returned as its negative (a positive value)\n",
        "\n",
        "def absolute_value(num):\n",
        "    if num >= 0:\n",
        "        return num\n",
        "    return -num"
      ],
      "metadata": {
        "id": "ZdHpsz5mDwyk"
      },
      "execution_count": 74,
      "outputs": []
    },
    {
      "cell_type": "code",
      "source": [
        "# list comprehension calls the absolute value function for every number in the list\n",
        "\n",
        "l_absolutevalue = [absolute_value(n) for n in l]\n",
        "l_absolutevalue"
      ],
      "metadata": {
        "id": "LNltsHhtngLS",
        "outputId": "2f1a94a0-62f3-4657-ee9c-1b54ca2ecb30",
        "colab": {
          "base_uri": "https://localhost:8080/"
        }
      },
      "execution_count": 75,
      "outputs": [
        {
          "output_type": "execute_result",
          "data": {
            "text/plain": [
              "[6, 5, 4, 3, 2, 1, 0, 1, 2, 3, 4, 5, 6]"
            ]
          },
          "metadata": {},
          "execution_count": 75
        }
      ]
    },
    {
      "cell_type": "markdown",
      "source": [
        "(b) . . . a list containing `True` for each even number in `l` and `False` for each odd number in `l`"
      ],
      "metadata": {
        "id": "mqIbzaTvpLCV"
      }
    },
    {
      "cell_type": "code",
      "source": [
        "# Even odds function evaluates if the remainder of a number divided by 2 would be existent or not.\n",
        "# If there is no remainder when dividing by 2, it is even. If it does have a remainder (1), it is odd.\n",
        "# True indicates even. False indicates odd.\n",
        "\n",
        "def even_odds(num):\n",
        "  if num % 2 == 0:\n",
        "    return True\n",
        "  return False"
      ],
      "metadata": {
        "id": "0OTpQFX9pK0t"
      },
      "execution_count": 76,
      "outputs": []
    },
    {
      "cell_type": "code",
      "source": [
        "# list comprehension calls the even odds function for every nunmber in the list\n",
        "\n",
        "l_evenodds = [even_odds(n) for n in l]\n",
        "l_evenodds"
      ],
      "metadata": {
        "id": "BAKM85bYErog",
        "outputId": "163ae69d-6fbb-4d41-fe8e-71cf90634d15",
        "colab": {
          "base_uri": "https://localhost:8080/"
        }
      },
      "execution_count": 77,
      "outputs": [
        {
          "output_type": "execute_result",
          "data": {
            "text/plain": [
              "[True,\n",
              " False,\n",
              " True,\n",
              " False,\n",
              " True,\n",
              " False,\n",
              " True,\n",
              " False,\n",
              " True,\n",
              " False,\n",
              " True,\n",
              " False,\n",
              " True]"
            ]
          },
          "metadata": {},
          "execution_count": 77
        }
      ]
    },
    {
      "cell_type": "markdown",
      "source": [
        "(c) . . . a list containing only the numbers in `l` that are divisible by 3"
      ],
      "metadata": {
        "id": "9yqVg2hApUY9"
      }
    },
    {
      "cell_type": "code",
      "source": [
        "# divisible by 3 function checks if the number when divided by 3 results in a remainder or not\n",
        "# the numbers that do not result in a remainder (divisible by 3) are returned\n",
        "\n",
        "def divisible_by3(num):\n",
        "  if num % 3 == 0:\n",
        "    return num"
      ],
      "metadata": {
        "id": "2mP_1aYZpUF4"
      },
      "execution_count": 78,
      "outputs": []
    },
    {
      "cell_type": "code",
      "source": [
        "# list comprehension calls the divisible by 3 function for every number in the list\n",
        "l_divisibleby3 = [divisible_by3(n) for n in l]\n",
        "\n",
        "# list comprehension returns only the true numbers in the list, as there is a filler 'None' value throughout\n",
        "l_divisibleby3 = [n for n in l_divisibleby3 if n is not None]\n",
        "l_divisibleby3"
      ],
      "metadata": {
        "id": "5-Ua0ZROF97k",
        "outputId": "6ce0d2e6-34f7-4d07-9c2f-3ccb104d11c6",
        "colab": {
          "base_uri": "https://localhost:8080/"
        }
      },
      "execution_count": 79,
      "outputs": [
        {
          "output_type": "execute_result",
          "data": {
            "text/plain": [
              "[-6, -3, 0, 3, 6]"
            ]
          },
          "metadata": {},
          "execution_count": 79
        }
      ]
    },
    {
      "cell_type": "markdown",
      "source": [
        "(d) . . . a list containing only the words in `l` whose first and last letters are the same"
      ],
      "metadata": {
        "id": "2yClgYZupef1"
      }
    },
    {
      "cell_type": "code",
      "source": [
        "l2 = ['happy', 'upset', 'angry', 'banana', 'apple', 'watermelon', 'hello', 'world', 'racecar', 'treat']"
      ],
      "metadata": {
        "id": "g3ZhzjCHIdhk"
      },
      "execution_count": 80,
      "outputs": []
    },
    {
      "cell_type": "code",
      "source": [
        "# same start and end function evaluates if the very first index of a string (the first letter) is equal to the very last index of a string\n",
        "# if yes, it is returned\n",
        "\n",
        "def same_start_and_end(word):\n",
        "  if word[0] == word[len(word) - 1]:\n",
        "    return word"
      ],
      "metadata": {
        "id": "-l7XnemMpeCi"
      },
      "execution_count": 81,
      "outputs": []
    },
    {
      "cell_type": "code",
      "source": [
        "# list comprehension calls the same start and end function for every string in the list\n",
        "l2_same_start_and_end = [same_start_and_end(w) for w in l2]\n",
        "\n",
        "# list comprehension returns only the true strings in the list, as there is a filler 'None' value throughout\n",
        "l2_same_start_and_end = [w for w in l2_same_start_and_end if w is not None]\n",
        "l2_same_start_and_end"
      ],
      "metadata": {
        "id": "jd5FUyWAI-3k",
        "outputId": "bd223ec9-1431-40d8-966d-14666879ebdd",
        "colab": {
          "base_uri": "https://localhost:8080/"
        }
      },
      "execution_count": 82,
      "outputs": [
        {
          "output_type": "execute_result",
          "data": {
            "text/plain": [
              "['racecar', 'treat']"
            ]
          },
          "metadata": {},
          "execution_count": 82
        }
      ]
    },
    {
      "cell_type": "markdown",
      "source": [
        "(e) . . . a list containing the first letter of each word in `l` that ends with a vowel"
      ],
      "metadata": {
        "id": "1mqMysFKppZS"
      }
    },
    {
      "cell_type": "code",
      "source": [
        "# end in vowel function evaluates if the very last index of a string (last letter) is equal to a, e, i, o, or u\n",
        "# if yes, it is returned\n",
        "\n",
        "def end_in_vowel(word):\n",
        "  if word[len(word) - 1] == 'a' or word[len(word) - 1] == 'e' or word[len(word) - 1] == 'i' or word[len(word) - 1] == 'o' or word[len(word) - 1] == 'u':\n",
        "    return word"
      ],
      "metadata": {
        "id": "1Gi3andbppDc"
      },
      "execution_count": 83,
      "outputs": []
    },
    {
      "cell_type": "code",
      "source": [
        "# list comprehension calls the end in vowel function for every string in the list\n",
        "l2_end_in_vowel = [end_in_vowel(w) for w in l2]\n",
        "\n",
        "# list comprehension returns only the true strings in the list, as there is a filler 'None' value throughout\n",
        "l2_end_in_vowel = [w for w in l2_end_in_vowel if w is not None]\n",
        "l2_end_in_vowel"
      ],
      "metadata": {
        "id": "jiG-v-jBJ6Lw",
        "outputId": "88182335-c31d-45cc-af3e-ef796459fb8c",
        "colab": {
          "base_uri": "https://localhost:8080/"
        }
      },
      "execution_count": 84,
      "outputs": [
        {
          "output_type": "execute_result",
          "data": {
            "text/plain": [
              "['banana', 'apple', 'hello']"
            ]
          },
          "metadata": {},
          "execution_count": 84
        }
      ]
    },
    {
      "cell_type": "markdown",
      "source": [
        "### Multiplication as a recursive process\n",
        "Problem 2.  Write a recursive function that computes the product of two positive integers `a` and `b` by adding `a` to itself `b` times.\n",
        "\n",
        "Hints:  \n",
        "1. if `b=1` then the product is `a`.\n",
        "2. if `b>1` then the product is what you get by adding `a` to `a * (b-1)`.\n",
        "\n",
        "Note:  the purpose of this exercise is to practice writing recursive functions.  Of course you can trivially ask for `a*b` and get the correct answer but that is worth no points.  Your function should not use any multiplications.\n"
      ],
      "metadata": {
        "id": "iV4ysawxjsiE"
      }
    },
    {
      "cell_type": "code",
      "source": [
        "# multiplication function finds the product of two integers: a and b by adding a to itself b times\n",
        "\n",
        "def multiplication(a, b):\n",
        "  if b == 1:        # if b is one, the answer will automatically be a (no need to add to itself) --> return just a\n",
        "    return a\n",
        "  else:\n",
        "    return a + multiplication(a, b - 1)   # otherwise, a is added to itself as many times (b) as the multiplication function will run until b = 1\n",
        "\n",
        "print(multiplication(2, 4))"
      ],
      "metadata": {
        "colab": {
          "base_uri": "https://localhost:8080/"
        },
        "id": "ktpsXeDsV1Nx",
        "outputId": "7271f2ee-d9eb-4823-830b-6ca8ffa9d817"
      },
      "execution_count": 85,
      "outputs": [
        {
          "output_type": "stream",
          "name": "stdout",
          "text": [
            "8\n"
          ]
        }
      ]
    },
    {
      "cell_type": "markdown",
      "source": [
        "### Division as a recursive process\n",
        "\n",
        "Problem 3:  Write a recursive function that takes two positive integers `a` and `b` and returns the quotient `q` and remainder `r` obtained when `a` is divided by `b`.\n",
        "\n",
        "Hints:  \n",
        "1. If `a<b` then what should `q` and `r` be?\n",
        "\n",
        "2. If `a>b` then think about how `q` and `r` are related to the values you would get from dividing `a-b` by `b`."
      ],
      "metadata": {
        "id": "A5xI1LxDkxn0"
      }
    },
    {
      "cell_type": "code",
      "source": [
        "# division function finds the quotient and remainder of a divided by b\n",
        "\n",
        "def division(a, b):\n",
        "  if a < b:     # if the numerator is smaller than the denominator, there will be no quotient and the remainder will be just the numerator (a)\n",
        "    q = 0\n",
        "    r = a\n",
        "    return q, r\n",
        "  # otherwise, division function will be called repeatedly with a decreasing by b every time\n",
        "  # both q and r may be defined by this recursion\n",
        "  # recursion will occur until a < b, by which r will equate to that currently defined 'a' value\n",
        "  # q will be counted as the number of recursions, but it must be increased by 1, as with repeated trials, it was found that one of the recursions was not recorded\n",
        "  else:\n",
        "    q, r = division(a - b, b)\n",
        "    return q + 1, r\n",
        "\n",
        "print(division(7,3))\n",
        "\n",
        "print(division(8, 2))\n",
        "\n",
        "print(division(100, 30))"
      ],
      "metadata": {
        "id": "_3aRmkgJkxUW",
        "colab": {
          "base_uri": "https://localhost:8080/"
        },
        "outputId": "fa580302-fb46-40d2-c72d-72c1af4d8052"
      },
      "execution_count": 86,
      "outputs": [
        {
          "output_type": "stream",
          "name": "stdout",
          "text": [
            "(2, 1)\n",
            "(4, 0)\n",
            "(3, 10)\n"
          ]
        }
      ]
    },
    {
      "cell_type": "markdown",
      "source": [
        "### The dot product of two vectors\n",
        "\n",
        "Problem 4.  Write a recursive function `dot()` that takes two lists of numbers, of equal length, and returns the sum of the products of the elements of the same index from each list. For example, if `V=[1,2,3]` and `W=[4,5,6]` then the function should return the value $(1 \\cdot 4) + (2\\cdot 5) + (3\\cdot 6)$, which equals 32.  In physics and linear algebra, this is called the \"dot product\" of the vectors `V` and `W`.\n",
        "\n",
        "Other examples:\n",
        "```\n",
        "dot([3],[4])\n",
        "12\n",
        "\n",
        "dot([1,1,0],[2,7,17])\n",
        "9\n",
        "```\n",
        "Hints:\n",
        "1. How is `dot(V,W)` related to `dot(V[1:],W[1:])`?\n",
        "2. What should happen if the lists are empty?"
      ],
      "metadata": {
        "id": "OkBK7gvglJ3u"
      }
    },
    {
      "cell_type": "code",
      "source": [
        "# dot product function finds the sum of the products of the elements of the same index from 2 lists\n",
        "\n",
        "def dot(V, W):\n",
        "  if len(V) == 0 or len(W) == 0:    # if either list has a length of 0, there will be no sum to find, returning 0\n",
        "    return 0\n",
        "  # otherwise:\n",
        "    # the very first index of each list are multiplied then summed to the product of the next indices\n",
        "      # to find each product, the dot function is called again but each list excludes the very first initial index\n",
        "        # this process is repeated where the list deletes the first index and every element \"shifts\" until the lists are non-existent\n",
        "  else:\n",
        "    return V[0] * W[0] + dot(V[1:], W[1:])\n",
        "\n",
        "V = [1, 2, 3]\n",
        "W = [1, 2, 3]\n",
        "print(dot(V, W))"
      ],
      "metadata": {
        "id": "LZXs6lkslJqm",
        "colab": {
          "base_uri": "https://localhost:8080/"
        },
        "outputId": "a76e629e-43f0-4aa9-ce3d-9179bc9ef859"
      },
      "execution_count": 87,
      "outputs": [
        {
          "output_type": "stream",
          "name": "stdout",
          "text": [
            "14\n"
          ]
        }
      ]
    }
  ]
}